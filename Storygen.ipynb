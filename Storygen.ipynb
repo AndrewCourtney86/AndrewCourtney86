{
  "cells": [
    {
      "cell_type": "markdown",
      "metadata": {
        "id": "view-in-github",
        "colab_type": "text"
      },
      "source": [
        "<a href=\"https://colab.research.google.com/github/AndrewCourtney86/AndrewCourtney86/blob/main/Storygen.ipynb\" target=\"_parent\"><img src=\"https://colab.research.google.com/assets/colab-badge.svg\" alt=\"Open In Colab\"/></a>"
      ]
    },
    {
      "cell_type": "code",
      "execution_count": 1,
      "metadata": {
        "id": "ZX1oAOxsCNm6",
        "colab": {
          "base_uri": "https://localhost:8080/",
          "height": 384
        },
        "outputId": "ea88175f-3ea8-409c-b834-abeb7d2ef0b2"
      },
      "outputs": [
        {
          "output_type": "error",
          "ename": "ModuleNotFoundError",
          "evalue": "ignored",
          "traceback": [
            "\u001b[0;31m---------------------------------------------------------------------------\u001b[0m",
            "\u001b[0;31mModuleNotFoundError\u001b[0m                       Traceback (most recent call last)",
            "\u001b[0;32m<ipython-input-1-a37749c2df5d>\u001b[0m in \u001b[0;36m<cell line: 4>\u001b[0;34m()\u001b[0m\n\u001b[1;32m      2\u001b[0m \u001b[0;34m\u001b[0m\u001b[0m\n\u001b[1;32m      3\u001b[0m \u001b[0;32mimport\u001b[0m \u001b[0mos\u001b[0m\u001b[0;34m\u001b[0m\u001b[0;34m\u001b[0m\u001b[0m\n\u001b[0;32m----> 4\u001b[0;31m \u001b[0;32mimport\u001b[0m \u001b[0mopenai\u001b[0m\u001b[0;34m\u001b[0m\u001b[0;34m\u001b[0m\u001b[0m\n\u001b[0m\u001b[1;32m      5\u001b[0m \u001b[0;32mfrom\u001b[0m \u001b[0mopenai\u001b[0m \u001b[0;32mimport\u001b[0m \u001b[0mOpenAI\u001b[0m\u001b[0;34m\u001b[0m\u001b[0;34m\u001b[0m\u001b[0m\n\u001b[1;32m      6\u001b[0m \u001b[0;34m\u001b[0m\u001b[0m\n",
            "\u001b[0;31mModuleNotFoundError\u001b[0m: No module named 'openai'",
            "",
            "\u001b[0;31m---------------------------------------------------------------------------\u001b[0;32m\nNOTE: If your import is failing due to a missing package, you can\nmanually install dependencies using either !pip or !apt.\n\nTo view examples of installing some common dependencies, click the\n\"Open Examples\" button below.\n\u001b[0;31m---------------------------------------------------------------------------\u001b[0m\n"
          ],
          "errorDetails": {
            "actions": [
              {
                "action": "open_url",
                "actionText": "Open Examples",
                "url": "/notebooks/snippets/importing_libraries.ipynb"
              }
            ]
          }
        }
      ],
      "source": [
        "#note this works in my local python env - it likely won't work in colab\n",
        "\n",
        "import os\n",
        "import openai\n",
        "from openai import OpenAI\n",
        "\n"
      ]
    },
    {
      "cell_type": "code",
      "execution_count": null,
      "metadata": {
        "id": "rJg4Ag_2CNm8"
      },
      "outputs": [],
      "source": [
        "client = OpenAI(\n",
        "    # This is the default and can be omitted\n",
        "    api_key=os.environ.get(\"OPENAI_API_KEY\"),\n",
        ")\n",
        "\n",
        "#it looks like you need to pay at least $1 through the API before getting access to GPT-4\n",
        "new_model = \"gpt-4-1106-preview\"\n",
        "\n",
        "system_prompt = {\"role\": \"system\", \"content\":\"You are a children's book author.  Your goal is to turn the story idea provided into a short story of 50 sentences or fewer. \\\n",
        "                            You will first check whether any of the subject material is appropriate for children of ages 5-7, if not respond with the phrase \\\"Let's find some more age appropriate material for you\\\"  Then produce the story page by page, starting at page 1 through the end of the story.\"}"
      ]
    },
    {
      "cell_type": "code",
      "execution_count": null,
      "metadata": {
        "id": "iPgmNqlWCNm9",
        "outputId": "bdc91777-c2fb-47fa-dfb3-9534d6a2478c"
      },
      "outputs": [
        {
          "name": "stdout",
          "output_type": "stream",
          "text": [
            "Subject Material Check: \"Andrew and his love of watermelons\" is appropriate for children of ages 5-7.\n",
            "\n",
            "Page 1:\n",
            "Once upon a time, there was a little boy named Andrew. Andrew loved watermelons more than anything in the world. He loved the juicy sweetness and the refreshing taste.\n",
            "\n",
            "Page 2:\n",
            "Every summer, Andrew visited his grandparents' farm where they grew the biggest and tastiest watermelons. He couldn't wait to spend time with his grandparents and eat watermelons to his heart's content.\n",
            "\n",
            "Page 3:\n",
            "As Andrew arrived at the farm, he could smell the sweet aroma of watermelons in the air. He knew this summer would be filled with delicious treats.\n",
            "\n",
            "Page 4:\n",
            "Andrew's grandparents were thrilled to see him. They greeted him with warm hugs and excitedly told him about the watermelon patch in their backyard.\n",
            "\n",
            "Page 5:\n",
            "The next morning, Andrew woke up early and put on his gardening hat. He couldn't wait to explore the watermelon patch and pick his very own watermelon.\n",
            "\n",
            "Page 6:\n",
            "As Andrew ventured into the watermelon patch, he marveled at the big green leaves and the long, winding vines. He wished there was a treasure map to the perfect watermelon.\n",
            "\n",
            "Page 7:\n",
            "Andrew followed the vines until he stumbled upon a large, round watermelon. It was resting in the patch, waiting to be picked.\n",
            "\n",
            "Page 8:\n",
            "With all his strength, Andrew lifted the watermelon and hugged it tightly. He grinned from ear to ear, knowing he found the perfect watermelon.\n",
            "\n",
            "Page 9:\n",
            "As the days went by, Andrew enjoyed watermelon every day. He ate it sliced, diced, and even made watermelon smoothies with his grandparents.\n",
            "\n",
            "Page 10:\n",
            "One sunny afternoon, Andrew had a brilliant idea. He decided to have a watermelon party and invite all his friends.\n",
            "\n",
            "Page 11:\n",
            "Andrew and his grandparents decorated the garden with colorful banners and balloons. They set up tables filled with watermelon treats.\n",
            "\n",
            "Page 12:\n",
            "Soon, Andrew's friends arrived at the watermelon party. They laughed and played games while enjoying the sweet and juicy watermelon treats.\n",
            "\n",
            "Page 13:\n",
            "The party was a huge success, and everyone agreed that Andrew's watermelon party was the best. They thanked Andrew and his grandparents for their delicious hospitality.\n",
            "\n",
            "Page 14:\n",
            "Andrew felt proud and happy. His love for watermelons had brought so much joy to his friends and family.\n",
            "\n",
            "Page 15:\n",
            "That summer, Andrew and his grandparents enjoyed many more watermelon-filled days. Each day was an adventure and brought the sweetest and juiciest memories.\n",
            "\n",
            "Page 16:\n",
            "As the summer came to an end, Andrew hugged his grandparents tightly, knowing he would miss them dearly until the next summer.\n",
            "\n",
            "Page 17:\n",
            "Andrew promised himself that he would always remember the fun times he had at the watermelon farm, and he would forever cherish his love for watermelons.\n",
            "\n",
            "Page 18:\n",
            "With a final wave goodbye, Andrew boarded the car, holding a bag full of freshly picked watermelons to share with his family at home.\n",
            "\n",
            "Page 19:\n",
            "As they drove away, Andrew looked back at the watermelon patch and whispered, \"Thank you for the best summer ever, dear watermelons.\"\n",
            "\n",
            "Page 20:\n",
            "And from that day on, Andrew kept a picture of a watermelon by his bed, forever reminding him of the special memories he made on that magical farm.\n",
            "\n",
            "The End.\n"
          ]
        }
      ],
      "source": [
        "chat_completion = client.chat.completions.create(\n",
        "    messages=[\n",
        "        system_prompt,\n",
        "        {\"role\": \"user\", \"content\": \"write me a story about Andrew and his love of watermelons\"}\n",
        "\n",
        "    ],\n",
        "    model=\"gpt-3.5-turbo\"\n",
        ")\n",
        "\n",
        "print(chat_completion.choices[0].message.content)"
      ]
    },
    {
      "cell_type": "code",
      "execution_count": null,
      "metadata": {
        "id": "7Fm4IE8yCNm-",
        "outputId": "ecc2a0b6-8167-4bb8-a2f6-6a93f07c3d3c"
      },
      "outputs": [
        {
          "name": "stdout",
          "output_type": "stream",
          "text": [
            "Let's find some more age appropriate material for you.\n"
          ]
        }
      ],
      "source": [
        "chat_completion = client.chat.completions.create(\n",
        "    messages=[\n",
        "       system_prompt,\n",
        "        {\"role\": \"user\", \"content\": \"write me a story about Andrew and interest in R-rated films like full metal jacket\"}\n",
        "\n",
        "    ],\n",
        "    model=\"gpt-3.5-turbo\"\n",
        ")\n",
        "\n",
        "print(chat_completion.choices[0].message.content)"
      ]
    },
    {
      "cell_type": "code",
      "execution_count": null,
      "metadata": {
        "id": "wN4IGfu0CNm-"
      },
      "outputs": [],
      "source": [
        "#still to do link in example with variables\n",
        "style = \"Western\"\n"
      ]
    },
    {
      "cell_type": "code",
      "execution_count": null,
      "metadata": {
        "id": "JEfzn5whCNm-",
        "outputId": "c0a071c8-2503-4e8a-ca65-d2c265f7a538"
      },
      "outputs": [
        {
          "name": "stdout",
          "output_type": "stream",
          "text": [
            "SyncPage[Model](data=[Model(id='text-search-babbage-doc-001', created=1651172509, object='model', owned_by='openai-dev'), Model(id='curie-search-query', created=1651172509, object='model', owned_by='openai-dev'), Model(id='text-davinci-003', created=1669599635, object='model', owned_by='openai-internal'), Model(id='text-search-babbage-query-001', created=1651172509, object='model', owned_by='openai-dev'), Model(id='babbage', created=1649358449, object='model', owned_by='openai'), Model(id='babbage-search-query', created=1651172509, object='model', owned_by='openai-dev'), Model(id='text-babbage-001', created=1649364043, object='model', owned_by='openai'), Model(id='text-similarity-davinci-001', created=1651172505, object='model', owned_by='openai-dev'), Model(id='davinci-similarity', created=1651172509, object='model', owned_by='openai-dev'), Model(id='curie-similarity', created=1651172510, object='model', owned_by='openai-dev'), Model(id='babbage-search-document', created=1651172510, object='model', owned_by='openai-dev'), Model(id='curie-instruct-beta', created=1649364042, object='model', owned_by='openai'), Model(id='text-search-ada-doc-001', created=1651172507, object='model', owned_by='openai-dev'), Model(id='gpt-3.5-turbo-0301', created=1677649963, object='model', owned_by='openai'), Model(id='davinci-instruct-beta', created=1649364042, object='model', owned_by='openai'), Model(id='gpt-3.5-turbo-16k-0613', created=1685474247, object='model', owned_by='openai'), Model(id='text-similarity-babbage-001', created=1651172505, object='model', owned_by='openai-dev'), Model(id='text-search-davinci-doc-001', created=1651172505, object='model', owned_by='openai-dev'), Model(id='babbage-similarity', created=1651172505, object='model', owned_by='openai-dev'), Model(id='text-embedding-ada-002', created=1671217299, object='model', owned_by='openai-internal'), Model(id='davinci-search-query', created=1651172505, object='model', owned_by='openai-dev'), Model(id='text-similarity-curie-001', created=1651172507, object='model', owned_by='openai-dev'), Model(id='gpt-3.5-turbo-instruct', created=1692901427, object='model', owned_by='system'), Model(id='text-davinci-001', created=1649364042, object='model', owned_by='openai'), Model(id='text-search-davinci-query-001', created=1651172505, object='model', owned_by='openai-dev'), Model(id='ada-search-document', created=1651172507, object='model', owned_by='openai-dev'), Model(id='ada-code-search-code', created=1651172505, object='model', owned_by='openai-dev'), Model(id='babbage-002', created=1692634615, object='model', owned_by='system'), Model(id='gpt-3.5-turbo-1106', created=1698959748, object='model', owned_by='system'), Model(id='davinci-002', created=1692634301, object='model', owned_by='system'), Model(id='gpt-3.5-turbo-instruct-0914', created=1694122472, object='model', owned_by='system'), Model(id='davinci-search-document', created=1651172509, object='model', owned_by='openai-dev'), Model(id='curie-search-document', created=1651172508, object='model', owned_by='openai-dev'), Model(id='babbage-code-search-code', created=1651172509, object='model', owned_by='openai-dev'), Model(id='text-search-ada-query-001', created=1651172505, object='model', owned_by='openai-dev'), Model(id='code-search-ada-text-001', created=1651172507, object='model', owned_by='openai-dev'), Model(id='gpt-3.5-turbo-0613', created=1686587434, object='model', owned_by='openai'), Model(id='babbage-code-search-text', created=1651172509, object='model', owned_by='openai-dev'), Model(id='code-search-babbage-code-001', created=1651172507, object='model', owned_by='openai-dev'), Model(id='ada-search-query', created=1651172505, object='model', owned_by='openai-dev'), Model(id='ada-code-search-text', created=1651172510, object='model', owned_by='openai-dev'), Model(id='tts-1-hd', created=1699046015, object='model', owned_by='system'), Model(id='text-search-curie-query-001', created=1651172509, object='model', owned_by='openai-dev'), Model(id='text-davinci-002', created=1649880484, object='model', owned_by='openai'), Model(id='code-search-babbage-text-001', created=1651172507, object='model', owned_by='openai-dev'), Model(id='ada', created=1649357491, object='model', owned_by='openai'), Model(id='text-ada-001', created=1649364042, object='model', owned_by='openai'), Model(id='ada-similarity', created=1651172507, object='model', owned_by='openai-dev'), Model(id='code-search-ada-code-001', created=1651172507, object='model', owned_by='openai-dev'), Model(id='text-similarity-ada-001', created=1651172505, object='model', owned_by='openai-dev'), Model(id='text-davinci-edit-001', created=1649809179, object='model', owned_by='openai'), Model(id='gpt-3.5-turbo', created=1677610602, object='model', owned_by='openai'), Model(id='code-davinci-edit-001', created=1649880484, object='model', owned_by='openai'), Model(id='text-search-curie-doc-001', created=1651172509, object='model', owned_by='openai-dev'), Model(id='whisper-1', created=1677532384, object='model', owned_by='openai-internal'), Model(id='text-curie-001', created=1649364043, object='model', owned_by='openai'), Model(id='curie', created=1649359874, object='model', owned_by='openai'), Model(id='tts-1', created=1681940951, object='model', owned_by='openai-internal'), Model(id='davinci', created=1649359874, object='model', owned_by='openai'), Model(id='dall-e-2', created=1698798177, object='model', owned_by='system'), Model(id='tts-1-1106', created=1699053241, object='model', owned_by='system'), Model(id='tts-1-hd-1106', created=1699053533, object='model', owned_by='system'), Model(id='gpt-3.5-turbo-16k', created=1683758102, object='model', owned_by='openai-internal')], object='list')\n"
          ]
        }
      ],
      "source": [
        "#available_models=openai.models.list()\n",
        "#pprint.pprint(available_models)\n"
      ]
    },
    {
      "cell_type": "code",
      "execution_count": null,
      "metadata": {
        "id": "h3t0ULw2CNm_",
        "outputId": "9addc329-4c0d-42f4-89d5-7080e3767869"
      },
      "outputs": [
        {
          "name": "stdout",
          "output_type": "stream",
          "text": [
            "{\n",
            "  \"error\": {\n",
            "    \"message\": \"Incorrect API key provided: $OPENAI_***_KEY. You can find your API key at https://platform.openai.com/account/api-keys.\",\n",
            "    \"type\": \"invalid_request_error\",\n",
            "    \"param\": null,\n",
            "    \"code\": \"invalid_api_key\"\n",
            "  }\n",
            "}\n"
          ]
        },
        {
          "name": "stderr",
          "output_type": "stream",
          "text": [
            "  % Total    % Received % Xferd  Average Speed   Time    Time     Time  Current\n",
            "                                 Dload  Upload   Total   Spent    Left  Speed\n",
            "\n",
            "  0     0    0     0    0     0      0      0 --:--:-- --:--:-- --:--:--     0\n",
            "100   245  100   245    0     0   1945      0 --:--:-- --:--:-- --:--:--  1960\n"
          ]
        }
      ],
      "source": []
    }
  ],
  "metadata": {
    "kernelspec": {
      "display_name": "Python 3",
      "language": "python",
      "name": "python3"
    },
    "language_info": {
      "codemirror_mode": {
        "name": "ipython",
        "version": 3
      },
      "file_extension": ".py",
      "mimetype": "text/x-python",
      "name": "python",
      "nbconvert_exporter": "python",
      "pygments_lexer": "ipython3",
      "version": "3.11.5"
    },
    "orig_nbformat": 4,
    "colab": {
      "provenance": [],
      "include_colab_link": true
    }
  },
  "nbformat": 4,
  "nbformat_minor": 0
}